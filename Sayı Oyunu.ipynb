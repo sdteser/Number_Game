{
 "cells": [
  {
   "cell_type": "code",
   "execution_count": null,
   "id": "c6d9be5f",
   "metadata": {},
   "outputs": [],
   "source": [
    "import random\n",
    "\n",
    "def generate_number():\n",
    "    return [random.randint(1, 9) for _ in range(4)]\n",
    "\n",
    "def check_guess(secret_number, guess):\n",
    "    result = {'+': 0, '-': 0}\n",
    "\n",
    "    for i in range(4):\n",
    "        if guess[i] == secret_number[i]:\n",
    "            result['+'] += 1\n",
    "        elif guess[i] in secret_number:\n",
    "            result['-'] += 1\n",
    "\n",
    "    return result\n",
    "\n",
    "def game_loop():\n",
    "    secret_number = generate_number()\n",
    "    guesses = 0\n",
    "    max_attempts = 10\n",
    "\n",
    "    while guesses < max_attempts:\n",
    "        guess_str = input(\"4 basamaklı bir sayı tahmin edin: \")\n",
    "\n",
    "        if not guess_str.isdigit() or len(guess_str) != 4 or len(set(guess_str)) != 4:\n",
    "            print(\"Geçersiz giriş. Lütfen 4 farklı basamaklı bir sayı girin.\")\n",
    "            continue\n",
    "\n",
    "        guess = [int(digit) for digit in guess_str]\n",
    "\n",
    "        result = check_guess(secret_number, guess)\n",
    "        guesses += 1\n",
    "\n",
    "        if result['+'] > 0 or result['-'] > 0:\n",
    "            print(\"Sonuç: \", end=\"\")\n",
    "            if result['+'] > 0:\n",
    "                print(\"+{}\".format(result['+']), end=\"\")\n",
    "            if result['-'] > 0:\n",
    "                print(\"-{}\".format(result['-']), end=\"\")\n",
    "            print()\n",
    "        else:\n",
    "            print(\"Sonuç: 0\")\n",
    "\n",
    "        if result['+'] == 4:\n",
    "            print(\"Tebrikler! {} sayısını {} tahminde buldunuz.\".format(''.join(map(str, secret_number)), guesses))\n",
    "            break\n",
    "\n",
    "    if result['+'] != 4:\n",
    "        print(\"Üzgünüz! Doğru sayı {}. İyi şanslar next time.\".format(''.join(map(str, secret_number))))\n",
    "\n",
    "game_loop()\n"
   ]
  },
  {
   "cell_type": "code",
   "execution_count": null,
   "id": "1d06b8f7",
   "metadata": {},
   "outputs": [],
   "source": []
  }
 ],
 "metadata": {
  "kernelspec": {
   "display_name": "Python 3 (ipykernel)",
   "language": "python",
   "name": "python3"
  },
  "language_info": {
   "codemirror_mode": {
    "name": "ipython",
    "version": 3
   },
   "file_extension": ".py",
   "mimetype": "text/x-python",
   "name": "python",
   "nbconvert_exporter": "python",
   "pygments_lexer": "ipython3",
   "version": "3.9.13"
  }
 },
 "nbformat": 4,
 "nbformat_minor": 5
}
